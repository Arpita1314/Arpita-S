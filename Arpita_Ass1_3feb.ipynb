{
 "cells": [
  {
   "cell_type": "code",
   "execution_count": 3,
   "id": "15e0dcb8-c9f4-4822-ad50-12bac7b43373",
   "metadata": {},
   "outputs": [
    {
     "name": "stdout",
     "output_type": "stream",
     "text": [
      "My name is Arpita.\n",
      ".atiprA si eman yM\n"
     ]
    }
   ],
   "source": [
    "# This Is programmFor to Print String In Reverse Order \n",
    "\n",
    "str = \"My name is Arpita.\"\n",
    "print(str)\n",
    "rev_str = str[::-1]\n",
    "print(rev_str)"
   ]
  },
  {
   "cell_type": "code",
   "execution_count": 5,
   "id": "cfaf2e57-0197-4da8-ad1f-3bd4c66ef4f8",
   "metadata": {},
   "outputs": [
    {
     "name": "stdout",
     "output_type": "stream",
     "text": [
      "Random_Number [38, 20, 61, 37, 53, 64, 67, 58, 75, 91]\n",
      "Even_Numbers from Random numbers : [38, 20, 64, 58]\n"
     ]
    }
   ],
   "source": [
    "# This Is Programmefor To Pic Randaom Numners and even Numbers\n",
    "\n",
    "import random as rd\n",
    "random_num = [rd.randint(1,100) for _ in range(10)]\n",
    "print(\"Random_Number\",random_num)\n",
    "\n",
    "even_num = [num for num in random_num if num % 2 == 0]\n",
    "print(\"Even_Numbers from Random numbers :\",even_num)"
   ]
  },
  {
   "cell_type": "code",
   "execution_count": null,
   "id": "12a437ac-8498-45be-b488-ebd87ba1d7b6",
   "metadata": {},
   "outputs": [],
   "source": []
  }
 ],
 "metadata": {
  "kernelspec": {
   "display_name": "Python [conda env:base] *",
   "language": "python",
   "name": "conda-base-py"
  },
  "language_info": {
   "codemirror_mode": {
    "name": "ipython",
    "version": 3
   },
   "file_extension": ".py",
   "mimetype": "text/x-python",
   "name": "python",
   "nbconvert_exporter": "python",
   "pygments_lexer": "ipython3",
   "version": "3.12.7"
  }
 },
 "nbformat": 4,
 "nbformat_minor": 5
}
