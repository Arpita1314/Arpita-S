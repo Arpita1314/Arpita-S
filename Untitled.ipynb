{
 "cells": [
  {
   "cell_type": "code",
   "execution_count": 1,
   "id": "040b8891-0203-42ae-9fb7-6ddacebc9fab",
   "metadata": {},
   "outputs": [
    {
     "name": "stdout",
     "output_type": "stream",
     "text": [
      "Random list of numbers: [51, 45, 89, 91, 16, 75, 37, 72, 8, 70]\n",
      "Even numbers in the list: [16, 72, 8, 70]\n"
     ]
    }
   ],
   "source": [
    "import random\n",
    "\n",
    "# Generate a random list of 10 numbers between 1 and 100\n",
    "random_numbers = [random.randint(1, 100) for _ in range(10)]\n",
    "\n",
    "# Print the list of random numbers\n",
    "print(\"Random list of numbers:\", random_numbers)\n",
    "\n",
    "# Find and print all even numbers\n",
    "even_numbers = [num for num in random_numbers if num % 2 == 0]\n",
    "print(\"Even numbers in the list:\", even_numbers)\n"
   ]
  },
  {
   "cell_type": "code",
   "execution_count": null,
   "id": "8bcdf63d-5032-4907-9d7c-68a37a87c65a",
   "metadata": {},
   "outputs": [],
   "source": []
  }
 ],
 "metadata": {
  "kernelspec": {
   "display_name": "Python [conda env:base] *",
   "language": "python",
   "name": "conda-base-py"
  },
  "language_info": {
   "codemirror_mode": {
    "name": "ipython",
    "version": 3
   },
   "file_extension": ".py",
   "mimetype": "text/x-python",
   "name": "python",
   "nbconvert_exporter": "python",
   "pygments_lexer": "ipython3",
   "version": "3.12.7"
  }
 },
 "nbformat": 4,
 "nbformat_minor": 5
}
